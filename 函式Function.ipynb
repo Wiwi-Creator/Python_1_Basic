{
 "cells": [
  {
   "cell_type": "markdown",
   "metadata": {},
   "source": [
    "# 函式(Fuction)."
   ]
  },
  {
   "cell_type": "markdown",
   "metadata": {},
   "source": [
    "指一個建構程式時的區塊,像是程式中的機器,根據放入的參數做出不同的處理(任使用者指定其功能) 其優勢在於 :\n",
    "\n",
    "    1.重複利用性:可以重複呼叫(如有需要\n",
    "\n",
    "    2.易讀性:命名名稱易判讀的函式,能使其他使用者好判斷其意義\n"
   ]
  },
  {
   "cell_type": "markdown",
   "metadata": {},
   "source": [
    "def 函式名稱 (參數) :\n",
    "    程式碼(欲處理方式) \n",
    "    return 欲回傳資料(變數名稱/True/False)"
   ]
  },
  {
   "cell_type": "code",
   "execution_count": 5,
   "metadata": {},
   "outputs": [
    {
     "name": "stdout",
     "output_type": "stream",
     "text": [
      "請輸入一參數5\n",
      "True\n"
     ]
    }
   ],
   "source": [
    "a = int(input(\"請輸入一參數\"))\n",
    "def test(a):\n",
    "    if a > 1 :\n",
    "        return True\n",
    "    else :\n",
    "        return False\n",
    "print(test(a))"
   ]
  },
  {
   "attachments": {},
   "cell_type": "markdown",
   "metadata": {},
   "source": [
    "## Q1.閏年判斷
    "   根據維基百科，分辨平閏年的方法為：\n",
    "1. 公元年分除以4不可整除，為平年。\n",
    "2. 公元年分除以4可整除但除以100不可整除，為閏年。\n",
    "3. 公元年分除以100可整除但除以400不可整除，為平年。\n",
    "(提式 : 如果是閏年，那麼這個年份應該會是 400 的倍數，或者是 4 的倍數但卻不是 100 的倍數。)\n",
    "撰寫一判斷是否為閏年的函式!"
   ]
  },
  {
   "cell_type": "code",
   "execution_count": 2,
   "metadata": {},
   "outputs": [
    {
     "name": "stdout",
     "output_type": "stream",
     "text": [
      "請輸入西元年 :2021\n",
      "平年\n"
     ]
    }
   ],
   "source": [
    "year = int(input(\"請輸入西元年 :\"))\n",
    "def check_leap_year(year) :\n",
    "    if(year % 400 == 0) or (year % 100 != 0 and year % 4 == 0 ) :\n",
    "        print(\"閏年\")\n",
    "    else :\n",
    "        print(\"平年\")\n",
    "check_leap_year(year)\n"
   ]
  },
  {
   "attachments": {},
   "cell_type": "markdown",
   "metadata": {},
   "source": [
    " ## Q2.帳號 "
    " 由使用者輸入帳號及密碼,需帳號及密碼都正確顯示”登入成功” \n",
    "\n",
    " 任一失敗則顯示”帳號或密碼錯誤”直到正確為止!\n",
    " \n",
    " (帳號預設為”wiwi888”,密碼為”wiwi999”) \n",
    " \n",
    " (提示 :可使用while true為一無窮迴圈)(其中將判斷帳號密碼之條件改為函式)\n"
   ]
  },
  {
   "cell_type": "code",
   "execution_count": 6,
   "metadata": {},
   "outputs": [
    {
     "name": "stdout",
     "output_type": "stream",
     "text": [
      "請輸入帳號 : wiwi888\n",
      "請輸入密碼 : wiwi999\n",
      "登入成功!\n"
     ]
    }
   ],
   "source": [
    "wiwi_account  = \"wiwi888\"\n",
    "wiwi_password = \"wiwi999\"\n",
    "def account_all_test(a,b):  \n",
    "    if a == wiwi_account and b == wiwi_password :\n",
    "        return True\n",
    "    elif a != wiwi_account or b != wiwi_password :\n",
    "        return False\n",
    "while True :\n",
    "    account  = str(input(\"請輸入帳號 : \"))\n",
    "    password = str(input(\"請輸入密碼 : \"))\n",
    "    if account_all_test(account,password) == True:\n",
    "        print(\"登入成功!\")\n",
    "        break\n",
    "    else :\n",
    "        print(\"帳號或密碼錯誤!\")"
   ]
  },
  {
   "cell_type": "code",
   "execution_count": null,
   "metadata": {},
   "outputs": [],
   "source": []
  }
 ],
 "metadata": {
  "kernelspec": {
   "display_name": "Python 3",
   "language": "python",
   "name": "python3"
  },
  "language_info": {
   "codemirror_mode": {
    "name": "ipython",
    "version": 3
   },
   "file_extension": ".py",
   "mimetype": "text/x-python",
   "name": "python",
   "nbconvert_exporter": "python",
   "pygments_lexer": "ipython3",
   "version": "3.8.5"
  }
 },
 "nbformat": 4,
 "nbformat_minor": 4
}
