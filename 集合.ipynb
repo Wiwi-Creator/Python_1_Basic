{
 "cells": [
  {
   "cell_type": "markdown",
   "metadata": {},
   "source": [
    "# Set(集合)"
   ]
  },
  {
   "cell_type": "markdown",
   "metadata": {},
   "source": [
    "Set(集合) : 是沒有順序(故無法使用索引)的集合,且一旦創建,\n",
    "便無法修改內容項目,但是可以允許新增。"
   ]
  },
  {
   "cell_type": "code",
   "execution_count": 22,
   "metadata": {},
   "outputs": [
    {
     "name": "stdout",
     "output_type": "stream",
     "text": [
      "{'B', 'A', 'C'}\n"
     ]
    }
   ],
   "source": [
    "set = {'A','B','C'}\n",
    "print(set)"
   ]
  },
  {
   "cell_type": "markdown",
   "metadata": {},
   "source": [
    "但可以使用For(迴圈)循環其中的項目"
   ]
  },
  {
   "cell_type": "code",
   "execution_count": 23,
   "metadata": {},
   "outputs": [
    {
     "name": "stdout",
     "output_type": "stream",
     "text": [
      "B\n",
      "A\n",
      "C\n"
     ]
    }
   ],
   "source": [
    "set = {'A','B','C'}\n",
    "for i in list :\n",
    "    print(i)"
   ]
  },
  {
   "cell_type": "markdown",
   "metadata": {},
   "source": [
    "## 新增項目 :\n",
    "    \n",
    "    1.add()函數 : "
   ]
  },
  {
   "cell_type": "code",
   "execution_count": 25,
   "metadata": {},
   "outputs": [
    {
     "name": "stdout",
     "output_type": "stream",
     "text": [
      "{'D', 'B', 'A', 'C'}\n"
     ]
    }
   ],
   "source": [
    "set1 = {'A','B','C'}\n",
    "set1.add('D')\n",
    "print(set1)"
   ]
  },
  {
   "cell_type": "markdown",
   "metadata": {},
   "source": [
    "    2.update()函數 : 不能修改,但可以使用此方式作新增"
   ]
  },
  {
   "cell_type": "code",
   "execution_count": 26,
   "metadata": {},
   "outputs": [
    {
     "name": "stdout",
     "output_type": "stream",
     "text": [
      "{'E', 'D', 'B', 'A', 'C'}\n"
     ]
    }
   ],
   "source": [
    "set1 = {'A','B','C'}\n",
    "set1.update('D','E')\n",
    "print(set1)"
   ]
  },
  {
   "cell_type": "markdown",
   "metadata": {},
   "source": [
    "刪除項目 : \n",
    "\n",
    "    1.remove()函數 : "
   ]
  },
  {
   "cell_type": "code",
   "execution_count": 28,
   "metadata": {},
   "outputs": [
    {
     "name": "stdout",
     "output_type": "stream",
     "text": [
      "{'A', 'C'}\n"
     ]
    }
   ],
   "source": [
    "set1 = {'A','B','C'}\n",
    "set1.remove('B')\n",
    "print(set1)"
   ]
  },
  {
   "cell_type": "markdown",
   "metadata": {},
   "source": [
    "    2.discord()函數 : "
   ]
  },
  {
   "cell_type": "code",
   "execution_count": 30,
   "metadata": {},
   "outputs": [
    {
     "name": "stdout",
     "output_type": "stream",
     "text": [
      "{'A', 'C'}\n"
     ]
    }
   ],
   "source": [
    "set1 = {'A','B','C'}\n",
    "set1.discard('B')\n",
    "print(set1)"
   ]
  },
  {
   "cell_type": "markdown",
   "metadata": {},
   "source": [
    "        3.pop()函數 : 會刪除最後一項,但由於Set沒有順序,此方法會回傳所刪之項目 "
   ]
  },
  {
   "cell_type": "code",
   "execution_count": 31,
   "metadata": {},
   "outputs": [
    {
     "name": "stdout",
     "output_type": "stream",
     "text": [
      "B\n",
      "{'A', 'C'}\n"
     ]
    }
   ],
   "source": [
    "set = {\"A\", \"B\", \"C\"}\n",
    "\n",
    "x = set.pop()\n",
    "\n",
    "print(x)\n",
    "\n",
    "print(set)"
   ]
  },
  {
   "cell_type": "markdown",
   "metadata": {},
   "source": [
    "其餘常用方法總整理 : \n",
    "\n",
    "    1.clear()                        : 清空所有項目。\n",
    "    2.copy()                         : 回傳項目的副本。\n",
    "    3.difference()\t                 : 傳回含兩個或以上集合差異的集合。\n",
    "    4.difference_update()\t         : 删除此集合中也包含在另一个指定集合中的项目。\n",
    "    5.intersection()\t             : 回傳兩個集合間交集的集合。\n",
    "    6.intersection_update()\t         : 删除此集合中不存在于其他指定集合中的項目。\n",
    "    7.isdisjoint()\t                 : 回傳兩個集合是否有交集。\n",
    "    8.issubset()                     : 回傳另一个集合是否包含此集合。\n",
    "    9.issuperset()                   : 回傳此集合是否包含另一个集合。\n",
    "    10.symmetric_difference()\t     : 回傳具有兩組集合的堆稱差異的集合。\n",
    "    11.symmetric_difference_update() : 插入此集合和另一个集合的對稱差急。\n",
    "    12.union()                       : 回傳合併的集合。"
   ]
  }
 ],
 "metadata": {
  "kernelspec": {
   "display_name": "Python 3",
   "language": "python",
   "name": "python3"
  },
  "language_info": {
   "codemirror_mode": {
    "name": "ipython",
    "version": 3
   },
   "file_extension": ".py",
   "mimetype": "text/x-python",
   "name": "python",
   "nbconvert_exporter": "python",
   "pygments_lexer": "ipython3",
   "version": "3.8.5"
  }
 },
 "nbformat": 4,
 "nbformat_minor": 4
}
