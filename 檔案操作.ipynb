{
 "cells": [
  {
   "cell_type": "markdown",
   "metadata": {},
   "source": [
    "讀/寫檔"
   ]
  },
  {
   "cell_type": "markdown",
   "metadata": {},
   "source": [
    "若想將檔案寫入本機或是對該當案作讀取，需要用到開/關/讀/寫檔\n",
    "而開/關/讀/寫檔，FLAG大概有以下幾種 - r:讀取 w:寫入 b:二進制讀檔 a:追加內容\n",
    "開檔範例如下:"
   ]
  },
  {
   "cell_type": "code",
   "execution_count": null,
   "metadata": {},
   "outputs": [],
   "source": [
    "變數名稱 = open(\"變數名稱\",FLAG種類)"
   ]
  },
  {
   "cell_type": "markdown",
   "metadata": {},
   "source": [
    "讀/寫檔範例如下:"
   ]
  },
  {
   "cell_type": "code",
   "execution_count": null,
   "metadata": {},
   "outputs": [],
   "source": [
    "變數名稱.read() #讀檔\n",
    "變數名稱.write() #寫檔\n",
    "變數名稱.close() #關檔"
   ]
  },
  {
   "cell_type": "markdown",
   "metadata": {},
   "source": [
    "針對檔案操作之範例:\n",
    "    將爬蟲下來的網址紀錄於本機中的txt中"
   ]
  },
  {
   "cell_type": "code",
   "execution_count": 5,
   "metadata": {},
   "outputs": [
    {
     "name": "stdout",
     "output_type": "stream",
     "text": [
      "/bbs/MobileComm/M.1649128884.A.23C.html [討論] 限時終身4G188/5G399\n",
      "/bbs/MobileComm/M.1649132095.A.698.html [心得]Google Phone 10年用戶轉iPhone 13 Pro心得\n",
      "/bbs/MobileComm/M.1649132359.A.FEE.html [討論] S22 ultra看到線條/排列是正常的\n",
      "/bbs/MobileComm/M.1649134259.A.374.html [討論] 請問亞太168快到期了，後續該怎麼辦？\n",
      "/bbs/MobileComm/M.1649134335.A.681.html [購機] 萬元內拍照手機請益\n",
      "/bbs/MobileComm/M.1649138677.A.237.html [問題] 關於台哥大的好速成雙方案\n",
      "/bbs/MobileComm/M.1649139020.A.C1E.html [問題] 三星S20FE手機連線問題\n",
      "/bbs/MobileComm/M.1649140274.A.28F.html [購機] 萬元內拍照手機 可無線充電\n",
      "/bbs/MobileComm/M.1649140969.A.6A6.html [購機] 筆記需求+手寫筆 20k內平板\n",
      "/bbs/MobileComm/M.1649148550.A.FB5.html Re: [問題] 關於台哥大的好速成雙方案\n",
      "/bbs/MobileComm/M.1649150434.A.A97.html [購機] 長輩用的lcd手機選擇\n",
      "/bbs/MobileComm/M.1649151866.A.D15.html [購機] 15k內長輩平板\n",
      "/bbs/MobileComm/M.1649151915.A.018.html [問題] 保留號碼轉預付卡\n",
      "/bbs/MobileComm/M.1649152296.A.E6D.html [問題] 三星S21 指紋辨識失效\n",
      "/bbs/MobileComm/M.1649152484.A.28C.html [購機] ipad air5  vs tab s8\n",
      "/bbs/MobileComm/M.1649153386.A.192.html [購機] 10k以內 三星 照相+效能手機\n",
      "/bbs/MobileComm/M.1649155486.A.F17.html [討論] 請問蘋果手機是不是記憶體與Rom共用\n",
      "/bbs/MobileComm/M.1632715576.A.195.html [公告] MobileComm板規\n",
      "/bbs/MobileComm/M.1633077067.A.915.html [討論] 各業者5G速度實測一覽表\n",
      "/bbs/MobileComm/M.1645588921.A.70E.html [討論] PTT瀏覽APP比較\n"
     ]
    }
   ],
   "source": [
    "import requests\n",
    "from bs4 import BeautifulSoup\n",
    "file = open('Test.txt','w')\n",
    "web = requests.get(\"https://www.ptt.cc/bbs/MobileComm/index.html\")\n",
    "soup = BeautifulSoup(web.text,\"html.parser\")\n",
    "select = soup.select(\"div.title a\") #取html標中的 <duv class = \"title\"></div>中<a>存入select\n",
    "for s in select :\n",
    "    print(s[\"href\"],s.text)\n",
    "    file.write(str(s[\"href\"])+ s.text + \"\\n\")\n",
    "file.close()"
   ]
  },
  {
   "cell_type": "code",
   "execution_count": 6,
   "metadata": {},
   "outputs": [
    {
     "name": "stdout",
     "output_type": "stream",
     "text": [
      "/bbs/MobileComm/M.1649128884.A.23C.html[討論] 限時終身4G188/5G399\n",
      "/bbs/MobileComm/M.1649132095.A.698.html[心得]Google Phone 10年用戶轉iPhone 13 Pro心得\n",
      "/bbs/MobileComm/M.1649132359.A.FEE.html[討論] S22 ultra看到線條/排列是正常的\n",
      "/bbs/MobileComm/M.1649134259.A.374.html[討論] 請問亞太168快到期了，後續該怎麼辦？\n",
      "/bbs/MobileComm/M.1649134335.A.681.html[購機] 萬元內拍照手機請益\n",
      "/bbs/MobileComm/M.1649138677.A.237.html[問題] 關於台哥大的好速成雙方案\n",
      "/bbs/MobileComm/M.1649139020.A.C1E.html[問題] 三星S20FE手機連線問題\n",
      "/bbs/MobileComm/M.1649140274.A.28F.html[購機] 萬元內拍照手機 可無線充電\n",
      "/bbs/MobileComm/M.1649140969.A.6A6.html[購機] 筆記需求+手寫筆 20k內平板\n",
      "/bbs/MobileComm/M.1649148550.A.FB5.htmlRe: [問題] 關於台哥大的好速成雙方案\n",
      "/bbs/MobileComm/M.1649150434.A.A97.html[購機] 長輩用的lcd手機選擇\n",
      "/bbs/MobileComm/M.1649151866.A.D15.html[購機] 15k內長輩平板\n",
      "/bbs/MobileComm/M.1649151915.A.018.html[問題] 保留號碼轉預付卡\n",
      "/bbs/MobileComm/M.1649152296.A.E6D.html[問題] 三星S21 指紋辨識失效\n",
      "/bbs/MobileComm/M.1649152484.A.28C.html[購機] ipad air5  vs tab s8\n",
      "/bbs/MobileComm/M.1649153386.A.192.html[購機] 10k以內 三星 照相+效能手機\n",
      "/bbs/MobileComm/M.1649155486.A.F17.html[討論] 請問蘋果手機是不是記憶體與Rom共用\n",
      "/bbs/MobileComm/M.1632715576.A.195.html[公告] MobileComm板規\n",
      "/bbs/MobileComm/M.1633077067.A.915.html[討論] 各業者5G速度實測一覽表\n",
      "/bbs/MobileComm/M.1645588921.A.70E.html[討論] PTT瀏覽APP比較\n",
      "\n"
     ]
    }
   ],
   "source": [
    "file = open('Test.txt','r')\n",
    "r = file.read()\n",
    "print(r)\n",
    "file.close()"
   ]
  }
 ],
 "metadata": {
  "interpreter": {
   "hash": "42588fd11209419b7c81abe23e31a1d2101f60811b02170c268e57ebb57d5d9a"
  },
  "kernelspec": {
   "display_name": "Python 3.8.5 ('base')",
   "language": "python",
   "name": "python3"
  },
  "language_info": {
   "codemirror_mode": {
    "name": "ipython",
    "version": 3
   },
   "file_extension": ".py",
   "mimetype": "text/x-python",
   "name": "python",
   "nbconvert_exporter": "python",
   "pygments_lexer": "ipython3",
   "version": "3.8.5"
  },
  "orig_nbformat": 4
 },
 "nbformat": 4,
 "nbformat_minor": 2
}
