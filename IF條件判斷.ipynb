{
 "cells": [
  {
   "cell_type": "markdown",
   "metadata": {},
   "source": [
    "# IF條件判斷"
   ]
  },
  {
   "attachments": {},
   "cell_type": "markdown",
   "metadata": {},
   "source": [
    "若不符第一個條件則執行除了那條件以外範圍(if…….else…….)"
   ]
  },
  {
   "attachments": {},
   "cell_type": "markdown",
   "metadata": {},
   "source": [
    "若不符第一個條件則往下一個條件執行,(if…….elif…….elif…..elif…..)"
   ]
  },
  {
   "attachments": {},
   "cell_type": "markdown",
   "metadata": {},
   "source": [
    "以輸入成績(100分以內)為例 :\n",
    "   \n",
    "    成績 >= 90 為”S”\n",
    "    成績 >= 80 為”A”\n",
    "    成績 >= 70 為“B”\n",
    "    成績 >= 60 為”C”\n",
    "    其他 為”F”!"
   ]
  },
  {
   "cell_type": "code",
   "execution_count": null,
   "metadata": {},
   "outputs": [],
   "source": [
    "score = int(input(\"請輸入成績 : \"))\n",
    "if score > 90 :\n",
    "    print(\"S\")\n",
    "elif score > 90 :\n",
    "    print(\"A\")\n",
    "elif score > 90 :\n",
    "    print(\"B\")\n",
    "elif score > 90 :\n",
    "    print(\"C\")\n",
    "else  :\n",
    "    print(\"F\")"
   ]
  },
  {
   "attachments": {},
   "cell_type": "markdown",
   "metadata": {},
   "source": [
    "輸入一正整數,由系統判斷是否奇數還是偶數,若是奇數輸出”此為奇數”,若為偶數則輸出“此為偶數” 。    \n",
    "\n",
    "    輸出範例:\n",
    "                      請輸入一正整數: 5\n",
    "                      此為奇數!       .\n"
   ]
  },
  {
   "cell_type": "code",
   "execution_count": null,
   "metadata": {},
   "outputs": [],
   "source": [
    "a = int(input(\"請輸入一正整數 : \"))\n",
    "if a % 2 == 0 :\n",
    "    print(\"此為偶數!\")\n",
    "elif a % 2 != 0 :\n",
    "    print(\"此為奇數!\")"
   ]
  },
  {
   "attachments": {},
   "cell_type": "markdown",
   "metadata": {},
   "source": [
    "輸入一組帳號及密碼,由此程式判斷是否吻合?若帳號密碼皆正確,輸出”登入成功”,若不同則輸出”登入失敗”!(預設正確密碼為”wiwi999”正確密碼為”wiwi123”\n",
    "\n",
    "    輸出範例:\n",
    "                      請輸入帳號:ABC999\n",
    "                      請輸入密碼:ABC123\n",
    "                      登入失敗\n",
    "                      請輸入帳號:wiwi999\n",
    "                      請輸入密碼:wiwi123\n",
    "                      登入成功"
   ]
  },
  {
   "cell_type": "code",
   "execution_count": null,
   "metadata": {},
   "outputs": [],
   "source": [
    "wiwi_account = \"wiwi999\"\n",
    "wiwi_password = \"wiwi123\"\n",
    "account  = str(input(\"請輸入帳號 : \"))\n",
    "password = str(input(\"請輸入密碼 : \"))\n",
    "if wiwi_account == account and wiwi_password == password :\n",
    "    print(\"登入成功\")\n",
    "else :\n",
    "    print(\"登入失敗\")    "
   ]
  }
 ],
 "metadata": {
  "kernelspec": {
   "display_name": "Python 3",
   "language": "python",
   "name": "python3"
  },
  "language_info": {
   "codemirror_mode": {
    "name": "ipython",
    "version": 3
   },
   "file_extension": ".py",
   "mimetype": "text/x-python",
   "name": "python",
   "nbconvert_exporter": "python",
   "pygments_lexer": "ipython3",
   "version": "3.8.5"
  }
 },
 "nbformat": 4,
 "nbformat_minor": 4
}
