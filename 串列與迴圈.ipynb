{
 "cells": [
  {
   "cell_type": "markdown",
   "metadata": {},
   "source": [
    "# 串列(List)及迴圈(Loop)"
   ]
  },
  {
   "cell_type": "markdown",
   "metadata": {},
   "source": [
    "1.串列 : 類似其他語言陣列(Array),為一種資料結構"
   ]
  },
  {
   "cell_type": "code",
   "execution_count": 2,
   "metadata": {},
   "outputs": [],
   "source": [
    "A = [1,2,3,4]\n",
    "B = [7,8,9,10] "
   ]
  },
  {
   "cell_type": "markdown",
   "metadata": {},
   "source": [
    "利用串列進行運算"
   ]
  },
  {
   "cell_type": "code",
   "execution_count": 4,
   "metadata": {},
   "outputs": [
    {
     "name": "stdout",
     "output_type": "stream",
     "text": [
      "[1, 2, 3, 4, 7, 8, 9, 10]\n",
      "[1, 2, 3, 4, 1, 2, 3, 4, 1, 2, 3, 4]\n"
     ]
    }
   ],
   "source": [
    "print(A + B)\n",
    "print(A * 3)"
   ]
  },
  {
   "cell_type": "markdown",
   "metadata": {},
   "source": [
    "其位置命名較為特殊,第一個(初始) index 為 0, -1為倒數第一個值 以List A為範例 :"
   ]
  },
  {
   "cell_type": "code",
   "execution_count": 5,
   "metadata": {},
   "outputs": [
    {
     "name": "stdout",
     "output_type": "stream",
     "text": [
      "1\n",
      "2\n",
      "3\n",
      "4\n",
      "2\n"
     ]
    }
   ],
   "source": [
    "print(A[0])\n",
    "print(A[1])\n",
    "print(A[2])\n",
    "print(A[-1])\n",
    "print(A[-3])"
   ]
  },
  {
   "cell_type": "markdown",
   "metadata": {},
   "source": [
    "2.迴圈(Loop) :"
   ]
  },
  {
   "attachments": {},
   "cell_type": "markdown",
   "metadata": {},
   "source": [
    "在處理資料時,有時需要重複執行同樣的步驟,而我們可以利用迴圈(loop),讓符合某些特定條件時,重複執,是重要的程式結構!\n",
    "\n",
    "    for 變數 in 串列(list) :\n",
    "        欲執行指令\n",
    "\n",
    "    for 變數 in range(n) :\n",
    "        欲執行指令\n"
   ]
  },
  {
   "cell_type": "markdown",
   "metadata": {},
   "source": [
    "利用迴圈執行串列(List)中每一個值"
   ]
  },
  {
   "cell_type": "code",
   "execution_count": 7,
   "metadata": {},
   "outputs": [
    {
     "name": "stdout",
     "output_type": "stream",
     "text": [
      "1\n",
      "2\n",
      "3\n",
      "4\n"
     ]
    }
   ],
   "source": [
    "for i in A :\n",
    "    print(i)"
   ]
  },
  {
   "cell_type": "markdown",
   "metadata": {},
   "source": [
    "Range() : 為Python一內建函式m可用來建立整數數列\n",
    "(分別為1,2,3種輸入參數) (for-loop 執行)\n",
    "    EX:\n",
    "    \n",
    "        range(10) = 0 1 2 3 4 5 6 7 8 9 (預設為遞增1) \n",
    "        range(1,10) = 1 2 3 4 5 6 7 8 9 \n",
    "        range(0,12,2) = 0 2 4 6 8 10 起始:0 終值:12(不含12)\n"
   ]
  },
  {
   "cell_type": "code",
   "execution_count": 12,
   "metadata": {},
   "outputs": [
    {
     "name": "stdout",
     "output_type": "stream",
     "text": [
      "0 1 2 3 4 5 6 7 8 9 \n",
      "\n",
      "1 2 3 4 5 6 7 8 9 \n",
      "\n",
      "0 2 4 6 8 10 "
     ]
    }
   ],
   "source": [
    "for i in range(10) :\n",
    "    print(i , end =' ')\n",
    "print(\"\\n\")\n",
    "for i in range(1,10) :\n",
    "    print(i , end =' ')\n",
    "print(\"\\n\")\n",
    "for i in range(0,12,2) :\n",
    "    print(i , end =' ') "
   ]
  },
  {
   "attachments": {},
   "cell_type": "markdown",
   "metadata": {},
   "source": [
    "Q1:輸入 a , b兩整數 , 並利用迴圈算出兩整數之間的總和!(其中b > a)!\n",
    "    EX:\n",
    "    \n",
    "        請輸入 a : 5 \n",
    "        請輸入 b : 10\n",
    "        總和為 : 45"
   ]
  },
  {
   "cell_type": "code",
   "execution_count": 15,
   "metadata": {
    "scrolled": true
   },
   "outputs": [
    {
     "name": "stdout",
     "output_type": "stream",
     "text": [
      "請輸入 a :5\n",
      "請輸入 b :10\n",
      "總和為 :  45\n"
     ]
    }
   ],
   "source": [
    "a = int(input(\"請輸入 a :\"))\n",
    "b = int(input(\"請輸入 b :\"))\n",
    "sum = 0\n",
    "if a < b :\n",
    "    for i in range(a , b+1) :\n",
    "        sum += i\n",
    "    print(\"總和為 : \",sum)"
   ]
  },
  {
   "cell_type": "markdown",
   "metadata": {},
   "source": [
    "3.Break 與 Continue : 迴圈執行時,有時候需要中途強制停止執行"
   ]
  },
  {
   "attachments": {},
   "cell_type": "markdown",
   "metadata": {},
   "source": [
    "3-1.Break : 需要強制停止執行時,用break命令!"
   ]
  },
  {
   "cell_type": "code",
   "execution_count": 16,
   "metadata": {},
   "outputs": [
    {
     "name": "stdout",
     "output_type": "stream",
     "text": [
      "0 1 2 3 4 5 "
     ]
    }
   ],
   "source": [
    "for i in range(10) :\n",
    "    if i == 6 :\n",
    "        break\n",
    "    else :\n",
    "        print(i , end = ' ')"
   ]
  },
  {
   "attachments": {},
   "cell_type": "markdown",
   "metadata": {},
   "source": [
    "3-2.Continue : 需要中途停止不往下執行時,接著跳到迴圈起始開始執行,用continue命令!"
   ]
  },
  {
   "cell_type": "code",
   "execution_count": 17,
   "metadata": {},
   "outputs": [
    {
     "name": "stdout",
     "output_type": "stream",
     "text": [
      "0 1 2 3 4 5 7 8 9 "
     ]
    }
   ],
   "source": [
    "for i in range(10) :\n",
    "    if i == 6 :\n",
    "        continue\n",
    "    else :\n",
    "        print(i , end = ' ')"
   ]
  },
  {
   "attachments": {
    "image.png": {
     "image/png": "[encoded data removed]"
    }
   },
   "cell_type": "markdown",
   "metadata": {},
   "source": [
    "4.While : 通常用在沒有固定執行次數(通常為不知道要執行次數,直到達到條件)的情況,結構為:\n",
    "\n",
    "        \n",
    "    While (條件式) :\n",
    "        欲執行指令\n",
    "\n",
    "![image.png](attachment:image.png)"
   ]
  },
  {
   "cell_type": "markdown",
   "metadata": {},
   "source": [
    "分別以for-loop與while loop 編寫 n!(階乘)的寫法 :\n",
    "\n",
    "For Loop :"
   ]
  },
  {
   "cell_type": "code",
   "execution_count": 19,
   "metadata": {},
   "outputs": [
    {
     "name": "stdout",
     "output_type": "stream",
     "text": [
      "120\n"
     ]
    }
   ],
   "source": [
    "n = 1 \n",
    "for i in range(1,6) : \n",
    "    n = n * i\n",
    "print(n)"
   ]
  },
  {
   "cell_type": "code",
   "execution_count": null,
   "metadata": {},
   "outputs": [],
   "source": [
    "While Loop :"
   ]
  },
  {
   "cell_type": "code",
   "execution_count": 21,
   "metadata": {},
   "outputs": [
    {
     "name": "stdout",
     "output_type": "stream",
     "text": [
      "120\n"
     ]
    }
   ],
   "source": [
    "n = i = 1\n",
    "final = 5\n",
    "while i<= final :\n",
    "    n = n * i\n",
    "    i = i + 1\n",
    "print(n)"
   ]
  },
  {
   "cell_type": "markdown",
   "metadata": {},
   "source": [
    "Q2.輸入一正整數n,程式輸出由1 x 1 執行到 n x 9 的所有乘法表!"
   ]
  },
  {
   "cell_type": "code",
   "execution_count": 22,
   "metadata": {},
   "outputs": [
    {
     "name": "stdout",
     "output_type": "stream",
     "text": [
      "請輸入一正整數 : 3\n",
      "1 * 1  =  1  1 * 2  =  2  1 * 3  =  3  1 * 4  =  4  1 * 5  =  5  1 * 6  =  6  1 * 7  =  7  1 * 8  =  8  1 * 9  =  9  \n",
      "\n",
      "2 * 1  =  2  2 * 2  =  4  2 * 3  =  6  2 * 4  =  8  2 * 5  =  10  2 * 6  =  12  2 * 7  =  14  2 * 8  =  16  2 * 9  =  18  \n",
      "\n",
      "3 * 1  =  3  3 * 2  =  6  3 * 3  =  9  3 * 4  =  12  3 * 5  =  15  3 * 6  =  18  3 * 7  =  21  3 * 8  =  24  3 * 9  =  27  \n",
      "\n"
     ]
    }
   ],
   "source": [
    "n = int(input(\"請輸入一正整數 : \"))\n",
    "sum = 1\n",
    "for i in range( n ) :\n",
    "    i   = i + 1\n",
    "    for j in range( 9 ) : \n",
    "        j   = j + 1\n",
    "        sum = i * j\n",
    "        print(i ,\"*\", j ,\" = \", sum ,end = '  ')\n",
    "    print(\"\\n\")\n"
   ]
  }
 ],
 "metadata": {
  "kernelspec": {
   "display_name": "Python 3",
   "language": "python",
   "name": "python3"
  },
  "language_info": {
   "codemirror_mode": {
    "name": "ipython",
    "version": 3
   },
   "file_extension": ".py",
   "mimetype": "text/x-python",
   "name": "python",
   "nbconvert_exporter": "python",
   "pygments_lexer": "ipython3",
   "version": "3.8.5"
  }
 },
 "nbformat": 4,
 "nbformat_minor": 4
}
