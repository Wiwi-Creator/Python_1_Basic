{
 "cells": [
  {
   "cell_type": "markdown",
   "metadata": {},
   "source": [
    "# 資料型態與基本輸入"
   ]
  },
  {
   "cell_type": "markdown",
   "metadata": {},
   "source": [
    "鍵入type()，可以輸出其變數資料型態"
   ]
  },
  {
   "cell_type": "code",
   "execution_count": 1,
   "metadata": {},
   "outputs": [
    {
     "data": {
      "text/plain": [
       "int"
      ]
     },
     "execution_count": 1,
     "metadata": {},
     "output_type": "execute_result"
    }
   ],
   "source": [
    "type(15)"
   ]
  },
  {
   "cell_type": "code",
   "execution_count": 2,
   "metadata": {},
   "outputs": [
    {
     "data": {
      "text/plain": [
       "float"
      ]
     },
     "execution_count": 2,
     "metadata": {},
     "output_type": "execute_result"
    }
   ],
   "source": [
    "type(6.5)"
   ]
  },
  {
   "cell_type": "code",
   "execution_count": 4,
   "metadata": {},
   "outputs": [
    {
     "data": {
      "text/plain": [
       "str"
      ]
     },
     "execution_count": 4,
     "metadata": {},
     "output_type": "execute_result"
    }
   ],
   "source": [
    "type('高分')"
   ]
  },
  {
   "cell_type": "code",
   "execution_count": 9,
   "metadata": {},
   "outputs": [
    {
     "data": {
      "text/plain": [
       "bool"
      ]
     },
     "execution_count": 9,
     "metadata": {},
     "output_type": "execute_result"
    }
   ],
   "source": [
    "type( 5 == 5)"
   ]
  },
  {
   "cell_type": "markdown",
   "metadata": {},
   "source": [
    "可以透過指令進行資料的強制型態轉換 \n",
    "EX :\n",
    "str()\n",
    "int()\n",
    "bool()\n",
    "float()"
   ]
  },
  {
   "cell_type": "code",
   "execution_count": null,
   "metadata": {},
   "outputs": [],
   "source": [
    "type(5)"
   ]
  },
  {
   "cell_type": "markdown",
   "metadata": {},
   "source": [
    "基本輸入方式 :Input"
   ]
  },
  {
   "cell_type": "code",
   "execution_count": null,
   "metadata": {},
   "outputs": [],
   "source": [
    "A = input(\"請在此輸入 A :\") \n",
    "B = input(\"請在此輸入 B :\") "
   ]
  },
  {
   "cell_type": "markdown",
   "metadata": {},
   "source": [
    "也可以在輸入時，先行定義其資料型態(以利後續計算應用)"
   ]
  },
  {
   "cell_type": "code",
   "execution_count": null,
   "metadata": {},
   "outputs": [],
   "source": [
    "A = int(input(\"請在此輸入 A :\")) \n",
    "B = int(input(\"請在此輸入 B :\")) "
   ]
  },
  {
   "cell_type": "code",
   "execution_count": null,
   "metadata": {},
   "outputs": [],
   "source": [
    "A = 50\n",
    "B = 80\n",
    "print(\"A + B  = \" , A + B)"
   ]
  },
  {
   "cell_type": "markdown",
   "metadata": {},
   "source": [
    "Q1:輸入身高(Variable1) , 體重(Variable 2) 並由程式計算出BMI值。\n",
    "\n",
    "(輸出至小數點第3位 語法為 : %.3F , %變數名稱 ) :\n",
    "\n",
    "輸出範例:\n",
    "\n",
    "                      請輸入身高:188\n",
    "                      請輸入體重:65\n",
    "                      您的BMI值為: 18.391"
   ]
  },
  {
   "cell_type": "code",
   "execution_count": null,
   "metadata": {},
   "outputs": [],
   "source": [
    "a = int(input(\"請輸入身高 : \"))\n",
    "b = int(input(\"請輸入體重 : \"))\n",
    "bmi = b / ((a/100) * (a/100))\n",
    "print(\"您的bmi值為 : %.3f\" %bmi)\n"
   ]
  },
  {
   "attachments": {},
   "cell_type": "markdown",
   "metadata": {},
   "source": [
    "Q2:請撰寫一程式: 輸入兩個正整數,分別代表矩形之長與寬,計算並輸出其長,寬,周長,面積\n",
    "\n",
    "    輸出範例: \n",
    "                      5\n",
    "                     10\n",
    "                     長為: 5\n",
    "                     寬為: 10\n",
    "                     周長為:30\n",
    "                     面積為:50\n"
   ]
  },
  {
   "cell_type": "code",
   "execution_count": null,
   "metadata": {},
   "outputs": [],
   "source": [
    "a = int(input())\n",
    "b = int(input())\n",
    "print(\"長為: \" , a)\n",
    "print(\"寬為: \" , b)\n",
    "print(\"周長為 : \" , (a + b) * 2 )\n",
    "print(\"面積為 : \" , a * b))"
   ]
  }
 ],
 "metadata": {
  "kernelspec": {
   "display_name": "Python 3",
   "language": "python",
   "name": "python3"
  },
  "language_info": {
   "codemirror_mode": {
    "name": "ipython",
    "version": 3
   },
   "file_extension": ".py",
   "mimetype": "text/x-python",
   "name": "python",
   "nbconvert_exporter": "python",
   "pygments_lexer": "ipython3",
   "version": "3.8.5"
  }
 },
 "nbformat": 4,
 "nbformat_minor": 4
}
