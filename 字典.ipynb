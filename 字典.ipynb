{
 "cells": [
  {
   "cell_type": "markdown",
   "metadata": {},
   "source": [
    "# Dictionary(字典)"
   ]
  },
  {
   "cell_type": "markdown",
   "metadata": {},
   "source": [
    "Dictionary(字典) :沒有順序,但有索引的一個集合(其概念有些類似資料庫的table)\n",
    "                  其第一個為鍵(key),第二個為值(value)"
   ]
  },
  {
   "cell_type": "code",
   "execution_count": null,
   "metadata": {},
   "outputs": [],
   "source": [
    "dict = {'name' : 'wiwi'\n",
    "       ,'score': '100'\n",
    "       ,'level':  'S'  }\n",
    "# for test"
   ]
  },
  {
   "cell_type": "markdown",
   "metadata": {},
   "source": [
    "也可以利用for(迴圈)循環整個字典 , 其回傳值為(key)鍵"
   ]
  },
  {
   "cell_type": "code",
   "execution_count": 8,
   "metadata": {},
   "outputs": [
    {
     "name": "stdout",
     "output_type": "stream",
     "text": [
      "wiwi\n",
      "100\n",
      "S\n",
      "---------------------\n",
      "wiwi\n",
      "100\n",
      "S\n"
     ]
    }
   ],
   "source": [
    "dict = {'name' : 'wiwi'\n",
    "       ,'score': '100'\n",
    "       ,'level':  'S'  }\n",
    "for i  in dict :\n",
    "    print(dict[i])\n",
    "\n",
    "print(\"---------------------\")\n",
    "for x in dict.values() :\n",
    "    print(x)"
   ]
  },
  {
   "cell_type": "markdown",
   "metadata": {},
   "source": [
    "取得 :\n",
    "    \n",
    "    get() 函數 :"
   ]
  },
  {
   "cell_type": "code",
   "execution_count": 2,
   "metadata": {},
   "outputs": [
    {
     "data": {
      "text/plain": [
       "'wiwi'"
      ]
     },
     "execution_count": 2,
     "metadata": {},
     "output_type": "execute_result"
    }
   ],
   "source": [
    "dict = {'name' : 'wiwi'\n",
    "       ,'score': '100'\n",
    "       ,'level':  'S'  }\n",
    "dict.get(\"name\")"
   ]
  },
  {
   "cell_type": "markdown",
   "metadata": {},
   "source": [
    "修改 : \n",
    "    \n",
    "    可以引用其key(鍵)做修改"
   ]
  },
  {
   "cell_type": "code",
   "execution_count": 5,
   "metadata": {},
   "outputs": [
    {
     "name": "stdout",
     "output_type": "stream",
     "text": [
      "{'name': 'Nick', 'score': '100', 'level': 'S'}\n"
     ]
    }
   ],
   "source": [
    "dict = {'name' : 'wiwi'\n",
    "       ,'score': '100'\n",
    "       ,'level':  'S'  }\n",
    "dict[\"name\"] = 'Nick'\n",
    "\n",
    "print(dict)"
   ]
  },
  {
   "cell_type": "markdown",
   "metadata": {},
   "source": [
    "新增 (項目):\n",
    "\n",
    "    1.可以透過新增新的索引,將項目加到字典裡"
   ]
  },
  {
   "cell_type": "code",
   "execution_count": 9,
   "metadata": {},
   "outputs": [
    {
     "name": "stdout",
     "output_type": "stream",
     "text": [
      "{'name': 'wiwi', 'score': '100', 'level': 'S', 'seat': 'A1'}\n"
     ]
    }
   ],
   "source": [
    "dict = {'name' : 'wiwi'\n",
    "       ,'score': '100'\n",
    "       ,'level':  'S'  }\n",
    "dict[\"seat\"] = 'A1'\n",
    "print(dict)"
   ]
  },
  {
   "cell_type": "markdown",
   "metadata": {},
   "source": [
    "刪除(項目) : \n",
    "    \n",
    "    1.pop() 可指定欲刪除key(鍵名)做刪除"
   ]
  },
  {
   "cell_type": "code",
   "execution_count": 13,
   "metadata": {},
   "outputs": [
    {
     "name": "stdout",
     "output_type": "stream",
     "text": [
      "{'name': 'wiwi', 'score': '100'}\n"
     ]
    }
   ],
   "source": [
    "dict = {'name' : 'wiwi'\n",
    "       ,'score': '100'\n",
    "       ,'level':  'S'  }\n",
    "dict.pop(\"level\")\n",
    "print(dict)"
   ]
  },
  {
   "cell_type": "markdown",
   "metadata": {},
   "source": [
    "    2.popitem() : 刪除最後插入的項目"
   ]
  },
  {
   "cell_type": "code",
   "execution_count": 12,
   "metadata": {},
   "outputs": [
    {
     "name": "stdout",
     "output_type": "stream",
     "text": [
      "{'name': 'wiwi', 'score': '100'}\n"
     ]
    }
   ],
   "source": [
    "dict = {'name' : 'wiwi'\n",
    "       ,'score': '100'\n",
    "       ,'level':  'S'  }\n",
    "dict.popitem()\n",
    "print(dict)"
   ]
  },
  {
   "cell_type": "markdown",
   "metadata": {},
   "source": [
    "其他函式 :\n",
    "\n",
    "    clear()\t     : 清空字典中的所有元素\n",
    "    copy()\t     : 回傳字典的副本\n",
    "    fromkeys()   : 回傳指定的键和值的字典\n",
    "    items()\t     : 回傳包含每個键值對應的的列表\n",
    "    keys()\t     : 回傳包含字典键的列表\n",
    "    setdefault() : 回傳指定键的值。如果不存在，則插入有指定值的键。"
   ]
  }
 ],
 "metadata": {
  "kernelspec": {
   "display_name": "Python 3",
   "language": "python",
   "name": "python3"
  },
  "language_info": {
   "codemirror_mode": {
    "name": "ipython",
    "version": 3
   },
   "file_extension": ".py",
   "mimetype": "text/x-python",
   "name": "python",
   "nbconvert_exporter": "python",
   "pygments_lexer": "ipython3",
   "version": "3.8.5"
  }
 },
 "nbformat": 4,
 "nbformat_minor": 4
}
